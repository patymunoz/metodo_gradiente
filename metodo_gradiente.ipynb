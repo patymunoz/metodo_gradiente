{
 "cells": [
  {
   "cell_type": "code",
   "execution_count": null,
   "metadata": {},
   "outputs": [],
   "source": [
    "import sympy as sp\n",
    "import numpy as np"
   ]
  },
  {
   "cell_type": "code",
   "execution_count": null,
   "metadata": {},
   "outputs": [],
   "source": [
    "def metodo_gradiente_univariable(f_x, x_0, e, alfa, tipo='max', max_iter=10000):\n",
    "    \"\"\"\n",
    "    Implementa el método del gradiente para una función de una variable.\n",
    "    \n",
    "    Parámetros\n",
    "    ----------\n",
    "    f_x : función a optimizar.\n",
    "    x_0 : punto inicial.\n",
    "    e : error máximo permitido.\n",
    "    alfa : tasa de aprendizaje.\n",
    "    tipo : tipo de optimización, puede ser 'max' o 'min'.\n",
    "    max_iter : número máximo de iteraciones. Por defecto son 10,000.\n",
    "    \n",
    "    Regresa\n",
    "    -------\n",
    "    x_k : punto óptimo.\n",
    "    f_x_k : valor de la función en el punto óptimo.\n",
    "    iters: número de iteraciones realizadas.\n",
    "    \"\"\"\n",
    "    \n",
    "    # Paso 1: Inicializar\n",
    "    x_k = x_0 # x_k se refiere al valor de x en la iteración k\n",
    "    x = sp.Symbol('x')\n",
    "    f = sp.sympify(f_x)\n",
    "    f_x_k = f.subs(x, x_k) # f_x_k se refiere al valor de f(x) en la iteración k\n",
    "    grad_f_x = sp.diff(f, x) \n",
    "    grad_f_x_k = grad_f_x.subs(x, x_k) # grad_f_x_k se refiere al valor de la derivada de f(x) en la iteración k\n",
    "    \n",
    "    iters = 0\n",
    "    \n",
    "    # Paso 2: Iterar\n",
    "    while np.abs(grad_f_x_k) > e and iters < max_iter:\n",
    "        # Paso 2.1: Calcular dirección de descenso\n",
    "        if tipo == 'max':\n",
    "            d_k = grad_f_x_k\n",
    "        elif tipo == 'min':\n",
    "            d_k = -grad_f_x_k\n",
    "        else:\n",
    "            raise ValueError('El tipo de optimización no es válido.')\n",
    "            \n",
    "        # Paso 2.2: Calcular tamaño de paso\n",
    "        x_k = x_k + alfa * d_k\n",
    "        f_x_k = f.subs(x, x_k)\n",
    "        grad_f_x_k = grad_f_x.subs(x, x_k)\n",
    "        \n",
    "        iters += 1\n",
    "        print(f_x_k)\n",
    "\n",
    "    return x_k, f_x_k, iters"
   ]
  }
 ],
 "metadata": {
  "kernelspec": {
   "display_name": "base",
   "language": "python",
   "name": "python3"
  },
  "language_info": {
   "name": "python",
   "version": "3.10.9"
  },
  "orig_nbformat": 4
 },
 "nbformat": 4,
 "nbformat_minor": 2
}
